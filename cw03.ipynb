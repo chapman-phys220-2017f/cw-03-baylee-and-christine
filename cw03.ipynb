{
 "cells": [
  {
   "cell_type": "markdown",
   "metadata": {
    "collapsed": false
   },
   "source": [
    "# Classwork 3\n",
    "Author(s): Baylee Mumma, Christine Outlaw"
   ]
  },
  {
   "cell_type": "markdown",
   "metadata": {
    "collapsed": false
   },
   "source": [
    "Idea :Consider a Gaussian function:\n",
    "$$g(x) = \\frac{1}{\\sqrt{2\\pi}},\\exp\\left[-\\frac{x^2}{2}\\right].$$\n",
    "This is the \"bell-curve\" from statistics, centered at $x=0$ with standard deviation of $1$. Your task is to verify numerically that the integral of this function over $x$ is normalized to $1$."
   ]
  },
  {
   "cell_type": "code",
   "execution_count": 9,
   "metadata": {
    "collapsed": false
   },
   "outputs": [
   ],
   "source": [
    "import gaussian as gauss"
   ]
  },
  {
   "cell_type": "markdown",
   "metadata": {
    "collapsed": false
   },
   "source": [
    "##### Exerceise 1\n",
    "This module has three functions, g(x), interval(f, a, b, dx), integrate(i,dx).\n",
    "\n",
    "g(x) calculates the value of the Gaussian function at that point given the parameter x.\n",
    "\n",
    "interval(f, a, b, dx) creates a list of evenly spaced coordinates within the given interval with parameters a and b as the left and right endpoints, f as any function of a single variable, and dx as the space between each point.\n",
    "\n",
    "integrate (i,dx) integrates the Gaussian function over the previously defined interval using parameters i as the interval and dx as the space between coordinates."
   ]
  },
  {
   "cell_type": "code",
   "execution_count": 10,
   "metadata": {
    "collapsed": false
   },
   "outputs": [
    {
     "data": {
      "text/plain": [
       "[0.3989422804014327,\n",
       " 0.3910426939754559,\n",
       " 0.36827014030332333,\n",
       " 0.33322460289179967,\n",
       " 0.28969155276148273,\n",
       " 0.24197072451914337,\n",
       " 0.19418605498321292,\n",
       " 0.14972746563574482,\n",
       " 0.11092083467945554,\n",
       " 0.07895015830089415,\n",
       " 0.05399096651318806]"
      ]
     },
     "execution_count": 10,
     "metadata": {
     },
     "output_type": "execute_result"
    }
   ],
   "source": [
    "gauss.interval(gauss.g,0,2,.2)"
   ]
  },
  {
   "cell_type": "code",
   "execution_count": 11,
   "metadata": {
    "collapsed": false
   },
   "outputs": [
    {
     "data": {
      "text/plain": [
       "0.018352234538974"
      ]
     },
     "execution_count": 11,
     "metadata": {
     },
     "output_type": "execute_result"
    }
   ],
   "source": [
    "gauss.integrate(gauss.interval(gauss.g,0,2,.2),.2)"
   ]
  },
  {
   "cell_type": "code",
   "execution_count": 12,
   "metadata": {
    "collapsed": false
   },
   "outputs": [
   ],
   "source": [
    "import test_gaussian as test_g"
   ]
  },
  {
   "cell_type": "markdown",
   "metadata": {
    "collapsed": false
   },
   "source": [
    "##### Exercise 2\n",
    "We created a module with tests the Gaussian function, the interval function, the integrate function, and the norm of the function over an interval by asserting precompued values equal, or almost equal, to the values obtained by the functions given 4 decimal places."
   ]
  }
 ],
 "metadata": {
  "kernelspec": {
   "display_name": "Python 2 (SageMath)",
   "language": "python",
   "name": "python2"
  },
  "language_info": {
   "codemirror_mode": {
    "name": "ipython",
    "version": 2
   },
   "file_extension": ".py",
   "mimetype": "text/x-python",
   "name": "python",
   "nbconvert_exporter": "python",
   "pygments_lexer": "ipython2",
   "version": "2.7.13"
  }
 },
 "nbformat": 4,
 "nbformat_minor": 0
}